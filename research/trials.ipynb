{
 "cells": [
  {
   "cell_type": "code",
   "execution_count": 1,
   "metadata": {},
   "outputs": [],
   "source": [
    "import os"
   ]
  },
  {
   "cell_type": "code",
   "execution_count": 3,
   "metadata": {},
   "outputs": [
    {
     "data": {
      "text/plain": [
       "'d:\\\\MLOPS\\\\ML-Approach-for-Predict-Cancellation-Prevent-Loss-with-MLflow\\\\research'"
      ]
     },
     "execution_count": 3,
     "metadata": {},
     "output_type": "execute_result"
    }
   ],
   "source": [
    "%pwd"
   ]
  },
  {
   "cell_type": "code",
   "execution_count": 4,
   "metadata": {},
   "outputs": [],
   "source": [
    "os.chdir(\"../\")"
   ]
  },
  {
   "cell_type": "code",
   "execution_count": 5,
   "metadata": {},
   "outputs": [
    {
     "data": {
      "text/plain": [
       "'d:\\\\MLOPS\\\\ML-Approach-for-Predict-Cancellation-Prevent-Loss-with-MLflow'"
      ]
     },
     "execution_count": 5,
     "metadata": {},
     "output_type": "execute_result"
    }
   ],
   "source": [
    "%pwd"
   ]
  },
  {
   "cell_type": "code",
   "execution_count": 5,
   "metadata": {},
   "outputs": [],
   "source": [
    "from src.constants import *"
   ]
  },
  {
   "cell_type": "code",
   "execution_count": 7,
   "metadata": {},
   "outputs": [],
   "source": [
    "from src.utils.logger import logging\n",
    "import yaml\n",
    "from src.constants import *\n",
    "from src.utils.common import *"
   ]
  },
  {
   "cell_type": "code",
   "execution_count": 6,
   "metadata": {},
   "outputs": [],
   "source": [
    "\n",
    "import pandas as pd"
   ]
  },
  {
   "cell_type": "code",
   "execution_count": 7,
   "metadata": {},
   "outputs": [],
   "source": [
    "input_data = {\n",
    "    'number of adults': [1],\n",
    "    'number of children': [1],\n",
    "    'number of weekend nights': [2],\n",
    "    'number of week nights': [5],\n",
    "    'type of meal': ['Meal Plan 1'],\n",
    "    'car parking space': [0],\n",
    "    'room type': ['Room_Type 1'],\n",
    "    'lead time': [224],\n",
    "    'market segment type': ['Offline'],\n",
    "    'repeated': [0],\n",
    "    'P-C': [0],\n",
    "    'P-not-C': [0],\n",
    "    'average price': [88.0],\n",
    "    'special requests': [0],\n",
    "    'month': [10]\n",
    "}\n",
    "\n",
    "\n",
    "input_df = pd.DataFrame(input_data)"
   ]
  },
  {
   "cell_type": "code",
   "execution_count": 16,
   "metadata": {},
   "outputs": [
    {
     "name": "stdout",
     "output_type": "stream",
     "text": [
      "[1.]\n"
     ]
    }
   ],
   "source": [
    "import joblib \n",
    "import pandas as pd \n",
    "import numpy as np \n",
    "from pathlib import Path \n",
    "\n",
    "\n",
    "class PredictionPipeline:\n",
    "    def __init__(self):\n",
    "        self.model = joblib.load(Path(\"artifacts/model_trainer/model.joblib\"))\n",
    "        self.preprocessor = joblib.load(\"artifacts/data_transformation/preprocessor.joblib\")\n",
    "    \n",
    "    def preprocessing(self, data):\n",
    "        preprocessing_data = self.preprocessor.transform(data)\n",
    "        return preprocessing_data\n",
    "\n",
    "    def predict(self, data):\n",
    "        prediction = self.model.predict(data)\n",
    "        return prediction\n",
    "    \n",
    "\n",
    "\n",
    "\n",
    "\n",
    "obj = PredictionPipeline()\n",
    "input_data = {\n",
    "'number of adults': [1],\n",
    "'number of children': [1],\n",
    "'number of weekend nights': [2],\n",
    "'number of week nights': [5],\n",
    "'type of meal': ['Meal Plan 1'],\n",
    "'car parking space': [0],\n",
    "'room type': ['Room_Type 1'],\n",
    "'lead time': [224],\n",
    "'market segment type': ['Offline'],\n",
    "'repeated': [0],\n",
    "'P-C': [0],\n",
    "'P-not-C': [0],\n",
    "'average price': [88.0],\n",
    "'special requests': [0],\n",
    "'month': [10]\n",
    "}\n",
    "\n",
    "\n",
    "input_df = pd.DataFrame(input_data)\n",
    "\n",
    "transform_data = obj.preprocessing(input_df)\n",
    "print(obj.predict(data=transform_data))\n",
    "\n"
   ]
  },
  {
   "cell_type": "code",
   "execution_count": 15,
   "metadata": {},
   "outputs": [
    {
     "data": {
      "text/plain": [
       "array([[ 1.        ,  0.        ,  0.        ,  0.        ,  1.        ,\n",
       "         0.        ,  0.        ,  0.        ,  0.        ,  0.        ,\n",
       "         0.        ,  0.        ,  0.        ,  0.        ,  1.        ,\n",
       "         0.        , -1.63307087,  2.2294204 ,  1.36159398,  1.98362164,\n",
       "        -0.1805239 ,  1.61267821, -0.16197322, -0.06302488, -0.08715657,\n",
       "        -0.4431749 , -0.79153799,  0.83926055]])"
      ]
     },
     "execution_count": 15,
     "metadata": {},
     "output_type": "execute_result"
    }
   ],
   "source": [
    "transform_data"
   ]
  },
  {
   "cell_type": "code",
   "execution_count": 17,
   "metadata": {},
   "outputs": [
    {
     "data": {
      "text/html": [
       "<div>\n",
       "<style scoped>\n",
       "    .dataframe tbody tr th:only-of-type {\n",
       "        vertical-align: middle;\n",
       "    }\n",
       "\n",
       "    .dataframe tbody tr th {\n",
       "        vertical-align: top;\n",
       "    }\n",
       "\n",
       "    .dataframe thead th {\n",
       "        text-align: right;\n",
       "    }\n",
       "</style>\n",
       "<table border=\"1\" class=\"dataframe\">\n",
       "  <thead>\n",
       "    <tr style=\"text-align: right;\">\n",
       "      <th></th>\n",
       "      <th>number of adults</th>\n",
       "      <th>number of children</th>\n",
       "      <th>number of weekend nights</th>\n",
       "      <th>number of week nights</th>\n",
       "      <th>type of meal</th>\n",
       "      <th>car parking space</th>\n",
       "      <th>room type</th>\n",
       "      <th>lead time</th>\n",
       "      <th>market segment type</th>\n",
       "      <th>repeated</th>\n",
       "      <th>P-C</th>\n",
       "      <th>P-not-C</th>\n",
       "      <th>average price</th>\n",
       "      <th>special requests</th>\n",
       "      <th>month</th>\n",
       "    </tr>\n",
       "  </thead>\n",
       "  <tbody>\n",
       "    <tr>\n",
       "      <th>0</th>\n",
       "      <td>1</td>\n",
       "      <td>1</td>\n",
       "      <td>2</td>\n",
       "      <td>5</td>\n",
       "      <td>Meal Plan 1</td>\n",
       "      <td>0</td>\n",
       "      <td>Room_Type 1</td>\n",
       "      <td>224</td>\n",
       "      <td>Offline</td>\n",
       "      <td>0</td>\n",
       "      <td>0</td>\n",
       "      <td>0</td>\n",
       "      <td>88.0</td>\n",
       "      <td>0</td>\n",
       "      <td>10</td>\n",
       "    </tr>\n",
       "  </tbody>\n",
       "</table>\n",
       "</div>"
      ],
      "text/plain": [
       "   number of adults  number of children  number of weekend nights  \\\n",
       "0                 1                   1                         2   \n",
       "\n",
       "   number of week nights type of meal  car parking space    room type  \\\n",
       "0                      5  Meal Plan 1                  0  Room_Type 1   \n",
       "\n",
       "   lead time market segment type  repeated  P-C  P-not-C  average price  \\\n",
       "0        224             Offline         0    0        0           88.0   \n",
       "\n",
       "   special requests  month  \n",
       "0                 0     10  "
      ]
     },
     "execution_count": 17,
     "metadata": {},
     "output_type": "execute_result"
    }
   ],
   "source": [
    "input_df"
   ]
  },
  {
   "cell_type": "code",
   "execution_count": null,
   "metadata": {},
   "outputs": [],
   "source": []
  },
  {
   "cell_type": "code",
   "execution_count": 18,
   "metadata": {},
   "outputs": [
    {
     "data": {
      "text/plain": [
       "(1, 15)"
      ]
     },
     "execution_count": 18,
     "metadata": {},
     "output_type": "execute_result"
    }
   ],
   "source": [
    "input_df.shape"
   ]
  },
  {
   "cell_type": "code",
   "execution_count": null,
   "metadata": {},
   "outputs": [],
   "source": []
  },
  {
   "cell_type": "code",
   "execution_count": 8,
   "metadata": {},
   "outputs": [],
   "source": [
    "class ConfigurationManager:\n",
    "    def __init__(self, config_filepath=CONFIG_FILE_PATH):\n",
    "        with open(config_filepath, 'r') as file:\n",
    "            self.config = yaml.safe_load(file)\n",
    "\n",
    "    def get_data_ingestion_config(self):\n",
    "        initialize = self.config['data_ingestion']\n",
    "        print(initialize['root_dir'])\n",
    "        # return DataIngestionConfig(\n",
    "        #     root_dir=initialize['root_dir'],\n",
    "        #     source_URL=initialize['source_URL'],\n",
    "        #     local_data_file=initialize['local_data_file'],\n",
    "        #     unzip_dir=initialize.get('unzip_dir')\n",
    "        # )\n",
    "\n"
   ]
  },
  {
   "cell_type": "code",
   "execution_count": 9,
   "metadata": {},
   "outputs": [],
   "source": [
    "obj = ConfigurationManager()"
   ]
  },
  {
   "cell_type": "code",
   "execution_count": 10,
   "metadata": {},
   "outputs": [
    {
     "name": "stdout",
     "output_type": "stream",
     "text": [
      "artifacts/data_ingestion\n"
     ]
    }
   ],
   "source": [
    "obj.get_data_ingestion_config()"
   ]
  },
  {
   "cell_type": "code",
   "execution_count": null,
   "metadata": {},
   "outputs": [],
   "source": []
  },
  {
   "cell_type": "code",
   "execution_count": null,
   "metadata": {},
   "outputs": [],
   "source": []
  },
  {
   "cell_type": "code",
   "execution_count": null,
   "metadata": {},
   "outputs": [],
   "source": []
  }
 ],
 "metadata": {
  "kernelspec": {
   "display_name": "newenv",
   "language": "python",
   "name": "python3"
  },
  "language_info": {
   "codemirror_mode": {
    "name": "ipython",
    "version": 3
   },
   "file_extension": ".py",
   "mimetype": "text/x-python",
   "name": "python",
   "nbconvert_exporter": "python",
   "pygments_lexer": "ipython3",
   "version": "3.9.6"
  }
 },
 "nbformat": 4,
 "nbformat_minor": 2
}
